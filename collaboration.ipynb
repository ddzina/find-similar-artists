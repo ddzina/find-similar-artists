{
 "cells": [
  {
   "cell_type": "code",
   "execution_count": 1,
   "metadata": {},
   "outputs": [],
   "source": [
    "import pandas as pd\n",
    "import csv\n",
    "import math"
   ]
  },
  {
   "attachments": {},
   "cell_type": "markdown",
   "metadata": {},
   "source": [
    "Создание словаря с рейтингами каждого юзера"
   ]
  },
  {
   "cell_type": "code",
   "execution_count": 2,
   "metadata": {},
   "outputs": [],
   "source": [
    "def get_rating_dict(filename = \"lastfm_user_scrobbles.csv\"):\n",
    "    with open(filename, 'r') as f:\n",
    "        r = csv.reader(f)\n",
    "        output = dict()\n",
    "        for i, line in enumerate(r):\n",
    "            if i == 0:\n",
    "                continue\n",
    "            user    = line[0]\n",
    "            artist = line[1]\n",
    "            rate    = int(line[2])\n",
    "            if not user in output:\n",
    "                output[user] = dict()\n",
    "            output[user][artist] = rate\n",
    "    return output"
   ]
  },
  {
   "attachments": {},
   "cell_type": "markdown",
   "metadata": {},
   "source": [
    "Реализация через pandas (оказалась медленнее)"
   ]
  },
  {
   "cell_type": "code",
   "execution_count": 3,
   "metadata": {},
   "outputs": [],
   "source": [
    "def get_rating_dict_pd(df):\n",
    "    output = dict()\n",
    "    for i, line in df.iterrows():\n",
    "        user = str(line['user_id'])\n",
    "        artist = line['artist_id']\n",
    "        rate    = int(line['scrobbles'])\n",
    "        if not user in output:\n",
    "            output[user] = dict()\n",
    "        output[user][artist] = rate\n",
    "    return output"
   ]
  },
  {
   "cell_type": "markdown",
   "metadata": {},
   "source": [
    "Косинусная мера расстояния"
   ]
  },
  {
   "cell_type": "code",
   "execution_count": 4,
   "metadata": {},
   "outputs": [],
   "source": [
    "def distCosine (vecA, vecB):\n",
    "    def dotProduct (vecA, vecB):\n",
    "        d = 0.0\n",
    "        for dim in vecA:\n",
    "            if dim in vecB:\n",
    "                d += vecA[dim]*vecB[dim]\n",
    "        return d\n",
    "    return dotProduct (vecA,vecB) / math.sqrt(dotProduct(vecA,vecA)) / math.sqrt(dotProduct(vecB,vecB))"
   ]
  },
  {
   "cell_type": "markdown",
   "metadata": {},
   "source": [
    "Поиск схожих артистов"
   ]
  },
  {
   "cell_type": "code",
   "execution_count": 5,
   "metadata": {},
   "outputs": [],
   "source": [
    "def get_similar_artists(user_id, user_ratings):\n",
    "    # Find like-minded users\n",
    "    user_matches = [(u, distCosine(user_ratings[user_id], user_ratings[u])) for u in user_ratings if u != user_id]\n",
    "    best_user_matches = sorted(user_matches, key=lambda x: x[1], reverse=True)[:1000]\n",
    "\n",
    "    # normalization coef\n",
    "    total_similarity = sum([x[1] for x in best_user_matches])\n",
    "    \n",
    "    # filtering closer users\n",
    "    best_user_matches = dict([x for x in best_user_matches if x[1] > 0.25])\n",
    "\n",
    "    # find top artists\n",
    "    artist_similarity = dict()\n",
    "    for related_user in best_user_matches:\n",
    "        for artist in user_ratings[related_user]:\n",
    "            if not artist in user_ratings[user_id]:\n",
    "                if not artist in artist_similarity:\n",
    "                    artist_similarity[artist] = 0.0\n",
    "                artist_similarity[artist] += user_ratings[related_user][artist] * best_user_matches[related_user]\n",
    "    \n",
    "    # normalization\n",
    "    for artist in artist_similarity:\n",
    "        artist_similarity[artist] /= total_similarity\n",
    "    \n",
    "    # sort to get most relevant\n",
    "    top_artists = sorted(artist_similarity.items(), key=lambda x: x[1], reverse=True)[:5]\n",
    "    return [x[0] for x in top_artists]"
   ]
  },
  {
   "cell_type": "code",
   "execution_count": 6,
   "metadata": {},
   "outputs": [],
   "source": [
    "df = pd.read_csv('lastfm_user_scrobbles.csv')\n",
    "names_df = pd.read_csv('lastfm_artist_list.csv')"
   ]
  },
  {
   "cell_type": "code",
   "execution_count": 7,
   "metadata": {},
   "outputs": [],
   "source": [
    "user_rating = get_rating_dict()"
   ]
  },
  {
   "cell_type": "code",
   "execution_count": 8,
   "metadata": {},
   "outputs": [],
   "source": [
    "input_artist = 'Britney Spears'\n",
    "artist_id = (names_df[names_df['artist_name']==input_artist].index + 1).tolist()\n",
    "fans = df[df['artist_id']== artist_id[0]]\n",
    "fans.sort_values('scrobbles', ascending=False)\n",
    "top_fan = fans.iloc[0]"
   ]
  },
  {
   "cell_type": "code",
   "execution_count": 9,
   "metadata": {},
   "outputs": [],
   "source": [
    "top_artists_id = get_similar_artists(str(top_fan.user_id), user_rating)"
   ]
  },
  {
   "cell_type": "code",
   "execution_count": 10,
   "metadata": {},
   "outputs": [
    {
     "name": "stdout",
     "output_type": "stream",
     "text": [
      "['Ke$Ha', 'Shakira', 'Miley Cyrus', 'Taylor Swift', 'Paramore']\n"
     ]
    }
   ],
   "source": [
    "artists = []\n",
    "for index in top_artists_id:\n",
    "    temp_df = names_df[names_df['artist_id'] == int(index)]\n",
    "    artists.append(temp_df['artist_name'].iloc[0])\n",
    "print(artists)"
   ]
  }
 ],
 "metadata": {
  "kernelspec": {
   "display_name": "mlenv",
   "language": "python",
   "name": "python3"
  },
  "language_info": {
   "codemirror_mode": {
    "name": "ipython",
    "version": 3
   },
   "file_extension": ".py",
   "mimetype": "text/x-python",
   "name": "python",
   "nbconvert_exporter": "python",
   "pygments_lexer": "ipython3",
   "version": "3.8.16"
  },
  "orig_nbformat": 4
 },
 "nbformat": 4,
 "nbformat_minor": 2
}
